{
 "cells": [
  {
   "cell_type": "code",
   "execution_count": 2,
   "id": "cd20e97e",
   "metadata": {},
   "outputs": [
    {
     "name": "stdout",
     "output_type": "stream",
     "text": [
      "hello vscode\n"
     ]
    }
   ],
   "source": [
    "print(\"hello vscode\")"
   ]
  },
  {
   "cell_type": "markdown",
   "id": "78340a6a",
   "metadata": {},
   "source": [
    "2025-09-18 두번째 수정"
   ]
  },
  {
   "cell_type": "code",
   "execution_count": 3,
   "id": "6bebd62f",
   "metadata": {},
   "outputs": [
    {
     "name": "stdout",
     "output_type": "stream",
     "text": [
      "hello\n"
     ]
    }
   ],
   "source": [
    "print(\"hello\")"
   ]
  },
  {
   "cell_type": "markdown",
   "id": "7223671e",
   "metadata": {},
   "source": []
  }
 ],
 "metadata": {
  "kernelspec": {
   "display_name": "Python 3",
   "language": "python",
   "name": "python3"
  },
  "language_info": {
   "codemirror_mode": {
    "name": "ipython",
    "version": 3
   },
   "file_extension": ".py",
   "mimetype": "text/x-python",
   "name": "python",
   "nbconvert_exporter": "python",
   "pygments_lexer": "ipython3",
   "version": "3.11.8"
  }
 },
 "nbformat": 4,
 "nbformat_minor": 5
}
